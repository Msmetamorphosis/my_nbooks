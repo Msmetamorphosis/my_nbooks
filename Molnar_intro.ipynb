{
 "cells": [
  {
   "cell_type": "markdown",
   "id": "87a724fc-c2fc-4483-9b7f-dd38223861a3",
   "metadata": {},
   "source": [
    "# Crystal's First Notebook in Jupyterlab"
   ]
  },
  {
   "cell_type": "markdown",
   "id": "d7f0fc90-20e7-469d-a950-eacf5a9ed7ed",
   "metadata": {},
   "source": [
    "## Crystal "
   ]
  },
  {
   "cell_type": "code",
   "execution_count": 10,
   "id": "dd3e84b6-3335-47ca-a91d-932925ebec04",
   "metadata": {},
   "outputs": [],
   "source": [
    "import random \n",
    "nums = [random.randint(30, 100) for _ in range(40)]"
   ]
  },
  {
   "cell_type": "code",
   "execution_count": 3,
   "id": "69ed4802-4c44-4bff-a8e7-5570fbe7c6d0",
   "metadata": {},
   "outputs": [
    {
     "name": "stdout",
     "output_type": "stream",
     "text": [
      "31 33 33 34 37 37 40 43 44 46 50 51 51 60 62 63 64 64 65 67 67 67 68 70 77 78 80 80 81 86 87 90 91 91 92 93 96 96 98 100\n"
     ]
    }
   ],
   "source": [
    "nums.sort()\n",
    "print(\" \".join(str(num) for num in nums))\n"
   ]
  },
  {
   "cell_type": "markdown",
   "id": "28353615-a0f4-4821-8f49-c18fc5987ba4",
   "metadata": {},
   "source": [
    "## The Sample Mean\n",
    "\n",
    "- Add up all the values in the dataset\n",
    "- Divide the sum by the number of values in the dataset\n"
   ]
  },
  {
   "cell_type": "markdown",
   "id": "352da850-f43b-4382-80de-1c63492c25eb",
   "metadata": {},
   "source": [
    "$$\n",
    "\\bar{x} = \\frac{\\sum_{i=1}^n x_i}{n}\n",
    "$$\n"
   ]
  },
  {
   "cell_type": "code",
   "execution_count": null,
   "id": "0c8ccee5-b3cd-4f51-983c-7aac08f9d1b4",
   "metadata": {},
   "outputs": [],
   "source": [
    "mean = sum(nums) / len(nums)\n",
    "print(f\"The sample mean is: {mean:.2f}\")\n"
   ]
  },
  {
   "cell_type": "markdown",
   "id": "71459672-91c5-4c06-9489-382457153b85",
   "metadata": {},
   "source": [
    "## The Median\n",
    "\n",
    "[Statistical Median Definition](https://www.mathsisfun.com/median.html)\n"
   ]
  },
  {
   "cell_type": "code",
   "execution_count": 6,
   "id": "5dd58821-9096-4177-b94c-b3188f4b21bb",
   "metadata": {},
   "outputs": [
    {
     "name": "stdout",
     "output_type": "stream",
     "text": [
      "The median is: 67.0\n"
     ]
    }
   ],
   "source": [
    "# For an even number of values, the median is calculated as the average of the two middle values.\n",
    "\n",
    "n = len(nums)\n",
    "if n % 2 == 0:\n",
    "    median = (nums[n//2 - 1] + nums[n//2]) / 2\n",
    "else:\n",
    "    median = nums[n//2]\n",
    "\n",
    "print(f\"The median is: {median:.1f}\")\n"
   ]
  },
  {
   "cell_type": "code",
   "execution_count": null,
   "id": "c95cdb76-e25c-4c55-8158-2cb596529862",
   "metadata": {},
   "outputs": [],
   "source": []
  }
 ],
 "metadata": {
  "kernelspec": {
   "display_name": "Python 3 (ipykernel)",
   "language": "python",
   "name": "python3"
  },
  "language_info": {
   "codemirror_mode": {
    "name": "ipython",
    "version": 3
   },
   "file_extension": ".py",
   "mimetype": "text/x-python",
   "name": "python",
   "nbconvert_exporter": "python",
   "pygments_lexer": "ipython3",
   "version": "3.10.9"
  }
 },
 "nbformat": 4,
 "nbformat_minor": 5
}
